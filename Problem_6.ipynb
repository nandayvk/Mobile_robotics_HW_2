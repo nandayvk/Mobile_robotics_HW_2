{
 "cells": [
  {
   "cell_type": "markdown",
   "metadata": {},
   "source": [
    "## Problem 6:"
   ]
  },
  {
   "cell_type": "code",
   "execution_count": 75,
   "metadata": {},
   "outputs": [],
   "source": [
    "import numpy as np"
   ]
  },
  {
   "cell_type": "code",
   "execution_count": 76,
   "metadata": {},
   "outputs": [],
   "source": [
    "skew = lambda v: np.array([[0.0, -v[2], v[1]], [v[2], 0.0, -v[0]], [-v[1], v[0], 0.0]])"
   ]
  },
  {
   "cell_type": "markdown",
   "metadata": {},
   "source": [
    "#### Example 1:"
   ]
  },
  {
   "cell_type": "code",
   "execution_count": 77,
   "metadata": {},
   "outputs": [],
   "source": [
    "v_1 = [10, 12, 13]\n",
    "v_2 = [2, 4, 6]\n",
    "s = skew(v_1)"
   ]
  },
  {
   "cell_type": "code",
   "execution_count": 78,
   "metadata": {},
   "outputs": [],
   "source": [
    "p_1 = np.cross(v_1, v_2)\n",
    "p_2 = np.matmul(np.array(s), v_2)"
   ]
  },
  {
   "cell_type": "code",
   "execution_count": 79,
   "metadata": {},
   "outputs": [
    {
     "name": "stdout",
     "output_type": "stream",
     "text": [
      "v1 = [10, 12, 13] and v2 = [2, 4, 6]\n",
      "v1 x v2 = [ 20 -34  16]\n",
      "S(v1) v2 = [ 20. -34.  16.]\n",
      "Therefore, v1 x v2 = S(v1) v2\n"
     ]
    }
   ],
   "source": [
    "print(\"v1 = {} and v2 = {}\".format(v_1, v_2))\n",
    "print(\"v1 x v2 = {}\".format(p_1))\n",
    "print(\"S(v1) v2 = {}\".format(p_2))\n",
    "print(\"Therefore, v1 x v2 = S(v1) v2\")"
   ]
  },
  {
   "cell_type": "markdown",
   "metadata": {},
   "source": [
    "#### Example 2:"
   ]
  },
  {
   "cell_type": "code",
   "execution_count": 80,
   "metadata": {},
   "outputs": [],
   "source": [
    "v_1 = [24, 15, 37]\n",
    "v_2 = [54, 65, 39]\n",
    "s = skew(v_1)"
   ]
  },
  {
   "cell_type": "code",
   "execution_count": 81,
   "metadata": {},
   "outputs": [],
   "source": [
    "p_1 = np.cross(v_1, v_2)\n",
    "p_2 = np.matmul(np.array(s), v_2)"
   ]
  },
  {
   "cell_type": "code",
   "execution_count": 82,
   "metadata": {},
   "outputs": [
    {
     "name": "stdout",
     "output_type": "stream",
     "text": [
      "v1 = [24, 15, 37] and v2 = [54, 65, 39]\n",
      "v1 x v2 = [-1820  1062   750]\n",
      "S(v1) v2 = [-1820.  1062.   750.]\n",
      "Therefore, v1 x v2 = S(v1) v2\n"
     ]
    }
   ],
   "source": [
    "print(\"v1 = {} and v2 = {}\".format(v_1, v_2))\n",
    "print(\"v1 x v2 = {}\".format(p_1))\n",
    "print(\"S(v1) v2 = {}\".format(p_2))\n",
    "print(\"Therefore, v1 x v2 = S(v1) v2\")"
   ]
  },
  {
   "cell_type": "markdown",
   "metadata": {},
   "source": [
    "#### Example 3:"
   ]
  },
  {
   "cell_type": "code",
   "execution_count": 83,
   "metadata": {},
   "outputs": [],
   "source": [
    "v_1 = [0.4, 0.2, 0.7]\n",
    "v_2 = [0.33, 0.5, 0.9]\n",
    "s = skew(v_1)"
   ]
  },
  {
   "cell_type": "code",
   "execution_count": 84,
   "metadata": {},
   "outputs": [],
   "source": [
    "p_1 = np.cross(v_1, v_2)\n",
    "p_2 = np.matmul(np.array(s), v_2)"
   ]
  },
  {
   "cell_type": "code",
   "execution_count": 85,
   "metadata": {},
   "outputs": [
    {
     "name": "stdout",
     "output_type": "stream",
     "text": [
      "v1 = [0.4, 0.2, 0.7] and v2 = [0.33, 0.5, 0.9]\n",
      "v1 x v2 = [-0.17  -0.129  0.134]\n",
      "S(v1) v2 = [-0.17  -0.129  0.134]\n",
      "Therefore, v1 x v2 = S(v1) v2\n"
     ]
    }
   ],
   "source": [
    "print(\"v1 = {} and v2 = {}\".format(v_1, v_2))\n",
    "print(\"v1 x v2 = {}\".format(p_1))\n",
    "print(\"S(v1) v2 = {}\".format(p_2))\n",
    "print(\"Therefore, v1 x v2 = S(v1) v2\")"
   ]
  },
  {
   "cell_type": "code",
   "execution_count": null,
   "metadata": {},
   "outputs": [],
   "source": []
  }
 ],
 "metadata": {
  "kernelspec": {
   "display_name": "Python 3",
   "language": "python",
   "name": "python3"
  },
  "language_info": {
   "codemirror_mode": {
    "name": "ipython",
    "version": 3
   },
   "file_extension": ".py",
   "mimetype": "text/x-python",
   "name": "python",
   "nbconvert_exporter": "python",
   "pygments_lexer": "ipython3",
   "version": "3.7.3"
  }
 },
 "nbformat": 4,
 "nbformat_minor": 2
}
